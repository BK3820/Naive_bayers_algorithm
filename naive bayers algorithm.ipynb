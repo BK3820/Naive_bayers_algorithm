{
 "cells": [
  {
   "cell_type": "markdown",
   "metadata": {},
   "source": [
    "#                             Naïve Bayes Classification algorithm"
   ]
  },
  {
   "cell_type": "code",
   "execution_count": 2,
   "metadata": {},
   "outputs": [],
   "source": [
    "import pandas as pd\n",
    "import numpy as np\n",
    "import warnings\n",
    "warnings.filterwarnings('ignore')"
   ]
  },
  {
   "cell_type": "code",
   "execution_count": 3,
   "metadata": {},
   "outputs": [
    {
     "data": {
      "text/html": [
       "<div>\n",
       "<style scoped>\n",
       "    .dataframe tbody tr th:only-of-type {\n",
       "        vertical-align: middle;\n",
       "    }\n",
       "\n",
       "    .dataframe tbody tr th {\n",
       "        vertical-align: top;\n",
       "    }\n",
       "\n",
       "    .dataframe thead th {\n",
       "        text-align: right;\n",
       "    }\n",
       "</style>\n",
       "<table border=\"1\" class=\"dataframe\">\n",
       "  <thead>\n",
       "    <tr style=\"text-align: right;\">\n",
       "      <th></th>\n",
       "      <th>PassengerId</th>\n",
       "      <th>Survived</th>\n",
       "      <th>Pclass</th>\n",
       "      <th>Name</th>\n",
       "      <th>Sex</th>\n",
       "      <th>Age</th>\n",
       "      <th>SibSp</th>\n",
       "      <th>Parch</th>\n",
       "      <th>Ticket</th>\n",
       "      <th>Fare</th>\n",
       "      <th>Cabin</th>\n",
       "      <th>Embarked</th>\n",
       "    </tr>\n",
       "  </thead>\n",
       "  <tbody>\n",
       "    <tr>\n",
       "      <th>0</th>\n",
       "      <td>1</td>\n",
       "      <td>0</td>\n",
       "      <td>3</td>\n",
       "      <td>Braund, Mr. Owen Harris</td>\n",
       "      <td>male</td>\n",
       "      <td>22.0</td>\n",
       "      <td>1</td>\n",
       "      <td>0</td>\n",
       "      <td>A/5 21171</td>\n",
       "      <td>7.2500</td>\n",
       "      <td>NaN</td>\n",
       "      <td>S</td>\n",
       "    </tr>\n",
       "    <tr>\n",
       "      <th>1</th>\n",
       "      <td>2</td>\n",
       "      <td>1</td>\n",
       "      <td>1</td>\n",
       "      <td>Cumings, Mrs. John Bradley (Florence Briggs Th...</td>\n",
       "      <td>female</td>\n",
       "      <td>38.0</td>\n",
       "      <td>1</td>\n",
       "      <td>0</td>\n",
       "      <td>PC 17599</td>\n",
       "      <td>71.2833</td>\n",
       "      <td>C85</td>\n",
       "      <td>C</td>\n",
       "    </tr>\n",
       "    <tr>\n",
       "      <th>2</th>\n",
       "      <td>3</td>\n",
       "      <td>1</td>\n",
       "      <td>3</td>\n",
       "      <td>Heikkinen, Miss. Laina</td>\n",
       "      <td>female</td>\n",
       "      <td>26.0</td>\n",
       "      <td>0</td>\n",
       "      <td>0</td>\n",
       "      <td>STON/O2. 3101282</td>\n",
       "      <td>7.9250</td>\n",
       "      <td>NaN</td>\n",
       "      <td>S</td>\n",
       "    </tr>\n",
       "    <tr>\n",
       "      <th>3</th>\n",
       "      <td>4</td>\n",
       "      <td>1</td>\n",
       "      <td>1</td>\n",
       "      <td>Futrelle, Mrs. Jacques Heath (Lily May Peel)</td>\n",
       "      <td>female</td>\n",
       "      <td>35.0</td>\n",
       "      <td>1</td>\n",
       "      <td>0</td>\n",
       "      <td>113803</td>\n",
       "      <td>53.1000</td>\n",
       "      <td>C123</td>\n",
       "      <td>S</td>\n",
       "    </tr>\n",
       "    <tr>\n",
       "      <th>4</th>\n",
       "      <td>5</td>\n",
       "      <td>0</td>\n",
       "      <td>3</td>\n",
       "      <td>Allen, Mr. William Henry</td>\n",
       "      <td>male</td>\n",
       "      <td>35.0</td>\n",
       "      <td>0</td>\n",
       "      <td>0</td>\n",
       "      <td>373450</td>\n",
       "      <td>8.0500</td>\n",
       "      <td>NaN</td>\n",
       "      <td>S</td>\n",
       "    </tr>\n",
       "  </tbody>\n",
       "</table>\n",
       "</div>"
      ],
      "text/plain": [
       "   PassengerId  Survived  Pclass  \\\n",
       "0            1         0       3   \n",
       "1            2         1       1   \n",
       "2            3         1       3   \n",
       "3            4         1       1   \n",
       "4            5         0       3   \n",
       "\n",
       "                                                Name     Sex   Age  SibSp  \\\n",
       "0                            Braund, Mr. Owen Harris    male  22.0      1   \n",
       "1  Cumings, Mrs. John Bradley (Florence Briggs Th...  female  38.0      1   \n",
       "2                             Heikkinen, Miss. Laina  female  26.0      0   \n",
       "3       Futrelle, Mrs. Jacques Heath (Lily May Peel)  female  35.0      1   \n",
       "4                           Allen, Mr. William Henry    male  35.0      0   \n",
       "\n",
       "   Parch            Ticket     Fare Cabin Embarked  \n",
       "0      0         A/5 21171   7.2500   NaN        S  \n",
       "1      0          PC 17599  71.2833   C85        C  \n",
       "2      0  STON/O2. 3101282   7.9250   NaN        S  \n",
       "3      0            113803  53.1000  C123        S  \n",
       "4      0            373450   8.0500   NaN        S  "
      ]
     },
     "execution_count": 3,
     "metadata": {},
     "output_type": "execute_result"
    }
   ],
   "source": [
    "df = pd.read_csv(\"titanic.csv\")\n",
    "df.head()"
   ]
  },
  {
   "cell_type": "code",
   "execution_count": 27,
   "metadata": {},
   "outputs": [
    {
     "data": {
      "text/plain": [
       "Survived      int64\n",
       "Pclass        int64\n",
       "Sex          object\n",
       "Age         float64\n",
       "Fare        float64\n",
       "dtype: object"
      ]
     },
     "execution_count": 27,
     "metadata": {},
     "output_type": "execute_result"
    }
   ],
   "source": [
    "df.dtypes"
   ]
  },
  {
   "cell_type": "code",
   "execution_count": 4,
   "metadata": {},
   "outputs": [
    {
     "data": {
      "text/html": [
       "<div>\n",
       "<style scoped>\n",
       "    .dataframe tbody tr th:only-of-type {\n",
       "        vertical-align: middle;\n",
       "    }\n",
       "\n",
       "    .dataframe tbody tr th {\n",
       "        vertical-align: top;\n",
       "    }\n",
       "\n",
       "    .dataframe thead th {\n",
       "        text-align: right;\n",
       "    }\n",
       "</style>\n",
       "<table border=\"1\" class=\"dataframe\">\n",
       "  <thead>\n",
       "    <tr style=\"text-align: right;\">\n",
       "      <th></th>\n",
       "      <th>Survived</th>\n",
       "      <th>Pclass</th>\n",
       "      <th>Sex</th>\n",
       "      <th>Age</th>\n",
       "      <th>Fare</th>\n",
       "    </tr>\n",
       "  </thead>\n",
       "  <tbody>\n",
       "    <tr>\n",
       "      <th>0</th>\n",
       "      <td>0</td>\n",
       "      <td>3</td>\n",
       "      <td>male</td>\n",
       "      <td>22.0</td>\n",
       "      <td>7.2500</td>\n",
       "    </tr>\n",
       "    <tr>\n",
       "      <th>1</th>\n",
       "      <td>1</td>\n",
       "      <td>1</td>\n",
       "      <td>female</td>\n",
       "      <td>38.0</td>\n",
       "      <td>71.2833</td>\n",
       "    </tr>\n",
       "    <tr>\n",
       "      <th>2</th>\n",
       "      <td>1</td>\n",
       "      <td>3</td>\n",
       "      <td>female</td>\n",
       "      <td>26.0</td>\n",
       "      <td>7.9250</td>\n",
       "    </tr>\n",
       "    <tr>\n",
       "      <th>3</th>\n",
       "      <td>1</td>\n",
       "      <td>1</td>\n",
       "      <td>female</td>\n",
       "      <td>35.0</td>\n",
       "      <td>53.1000</td>\n",
       "    </tr>\n",
       "    <tr>\n",
       "      <th>4</th>\n",
       "      <td>0</td>\n",
       "      <td>3</td>\n",
       "      <td>male</td>\n",
       "      <td>35.0</td>\n",
       "      <td>8.0500</td>\n",
       "    </tr>\n",
       "  </tbody>\n",
       "</table>\n",
       "</div>"
      ],
      "text/plain": [
       "   Survived  Pclass     Sex   Age     Fare\n",
       "0         0       3    male  22.0   7.2500\n",
       "1         1       1  female  38.0  71.2833\n",
       "2         1       3  female  26.0   7.9250\n",
       "3         1       1  female  35.0  53.1000\n",
       "4         0       3    male  35.0   8.0500"
      ]
     },
     "execution_count": 4,
     "metadata": {},
     "output_type": "execute_result"
    }
   ],
   "source": [
    "df.drop(['PassengerId','Name','SibSp','Parch','Ticket','Cabin','Embarked'],axis='columns',inplace=True)\n",
    "df.head()"
   ]
  },
  {
   "cell_type": "code",
   "execution_count": 5,
   "metadata": {},
   "outputs": [
    {
     "data": {
      "text/plain": [
       "(891, 5)"
      ]
     },
     "execution_count": 5,
     "metadata": {},
     "output_type": "execute_result"
    }
   ],
   "source": [
    "df.shape"
   ]
  },
  {
   "cell_type": "code",
   "execution_count": 6,
   "metadata": {},
   "outputs": [
    {
     "data": {
      "text/plain": [
       "Survived      int64\n",
       "Pclass        int64\n",
       "Sex          object\n",
       "Age         float64\n",
       "Fare        float64\n",
       "dtype: object"
      ]
     },
     "execution_count": 6,
     "metadata": {},
     "output_type": "execute_result"
    }
   ],
   "source": [
    "df.dtypes"
   ]
  },
  {
   "cell_type": "code",
   "execution_count": 7,
   "metadata": {},
   "outputs": [],
   "source": [
    "inputs = df.drop('Survived',axis='columns')\n",
    "target = df.Survived"
   ]
  },
  {
   "cell_type": "code",
   "execution_count": 8,
   "metadata": {},
   "outputs": [
    {
     "data": {
      "text/html": [
       "<div>\n",
       "<style scoped>\n",
       "    .dataframe tbody tr th:only-of-type {\n",
       "        vertical-align: middle;\n",
       "    }\n",
       "\n",
       "    .dataframe tbody tr th {\n",
       "        vertical-align: top;\n",
       "    }\n",
       "\n",
       "    .dataframe thead th {\n",
       "        text-align: right;\n",
       "    }\n",
       "</style>\n",
       "<table border=\"1\" class=\"dataframe\">\n",
       "  <thead>\n",
       "    <tr style=\"text-align: right;\">\n",
       "      <th></th>\n",
       "      <th>female</th>\n",
       "      <th>male</th>\n",
       "    </tr>\n",
       "  </thead>\n",
       "  <tbody>\n",
       "    <tr>\n",
       "      <th>0</th>\n",
       "      <td>0</td>\n",
       "      <td>1</td>\n",
       "    </tr>\n",
       "    <tr>\n",
       "      <th>1</th>\n",
       "      <td>1</td>\n",
       "      <td>0</td>\n",
       "    </tr>\n",
       "    <tr>\n",
       "      <th>2</th>\n",
       "      <td>1</td>\n",
       "      <td>0</td>\n",
       "    </tr>\n",
       "  </tbody>\n",
       "</table>\n",
       "</div>"
      ],
      "text/plain": [
       "   female  male\n",
       "0       0     1\n",
       "1       1     0\n",
       "2       1     0"
      ]
     },
     "execution_count": 8,
     "metadata": {},
     "output_type": "execute_result"
    }
   ],
   "source": [
    "\n",
    "dummies = pd.get_dummies(inputs.Sex)\n",
    "dummies.head(3)"
   ]
  },
  {
   "cell_type": "code",
   "execution_count": 9,
   "metadata": {},
   "outputs": [
    {
     "data": {
      "text/html": [
       "<div>\n",
       "<style scoped>\n",
       "    .dataframe tbody tr th:only-of-type {\n",
       "        vertical-align: middle;\n",
       "    }\n",
       "\n",
       "    .dataframe tbody tr th {\n",
       "        vertical-align: top;\n",
       "    }\n",
       "\n",
       "    .dataframe thead th {\n",
       "        text-align: right;\n",
       "    }\n",
       "</style>\n",
       "<table border=\"1\" class=\"dataframe\">\n",
       "  <thead>\n",
       "    <tr style=\"text-align: right;\">\n",
       "      <th></th>\n",
       "      <th>Pclass</th>\n",
       "      <th>Sex</th>\n",
       "      <th>Age</th>\n",
       "      <th>Fare</th>\n",
       "      <th>female</th>\n",
       "      <th>male</th>\n",
       "    </tr>\n",
       "  </thead>\n",
       "  <tbody>\n",
       "    <tr>\n",
       "      <th>0</th>\n",
       "      <td>3</td>\n",
       "      <td>male</td>\n",
       "      <td>22.0</td>\n",
       "      <td>7.2500</td>\n",
       "      <td>0</td>\n",
       "      <td>1</td>\n",
       "    </tr>\n",
       "    <tr>\n",
       "      <th>1</th>\n",
       "      <td>1</td>\n",
       "      <td>female</td>\n",
       "      <td>38.0</td>\n",
       "      <td>71.2833</td>\n",
       "      <td>1</td>\n",
       "      <td>0</td>\n",
       "    </tr>\n",
       "    <tr>\n",
       "      <th>2</th>\n",
       "      <td>3</td>\n",
       "      <td>female</td>\n",
       "      <td>26.0</td>\n",
       "      <td>7.9250</td>\n",
       "      <td>1</td>\n",
       "      <td>0</td>\n",
       "    </tr>\n",
       "  </tbody>\n",
       "</table>\n",
       "</div>"
      ],
      "text/plain": [
       "   Pclass     Sex   Age     Fare  female  male\n",
       "0       3    male  22.0   7.2500       0     1\n",
       "1       1  female  38.0  71.2833       1     0\n",
       "2       3  female  26.0   7.9250       1     0"
      ]
     },
     "execution_count": 9,
     "metadata": {},
     "output_type": "execute_result"
    }
   ],
   "source": [
    "inputs = pd.concat([inputs,dummies],axis='columns')\n",
    "inputs.head(3)"
   ]
  },
  {
   "cell_type": "code",
   "execution_count": 10,
   "metadata": {},
   "outputs": [
    {
     "data": {
      "text/html": [
       "<div>\n",
       "<style scoped>\n",
       "    .dataframe tbody tr th:only-of-type {\n",
       "        vertical-align: middle;\n",
       "    }\n",
       "\n",
       "    .dataframe tbody tr th {\n",
       "        vertical-align: top;\n",
       "    }\n",
       "\n",
       "    .dataframe thead th {\n",
       "        text-align: right;\n",
       "    }\n",
       "</style>\n",
       "<table border=\"1\" class=\"dataframe\">\n",
       "  <thead>\n",
       "    <tr style=\"text-align: right;\">\n",
       "      <th></th>\n",
       "      <th>Pclass</th>\n",
       "      <th>Age</th>\n",
       "      <th>Fare</th>\n",
       "      <th>female</th>\n",
       "    </tr>\n",
       "  </thead>\n",
       "  <tbody>\n",
       "    <tr>\n",
       "      <th>0</th>\n",
       "      <td>3</td>\n",
       "      <td>22.0</td>\n",
       "      <td>7.2500</td>\n",
       "      <td>0</td>\n",
       "    </tr>\n",
       "    <tr>\n",
       "      <th>1</th>\n",
       "      <td>1</td>\n",
       "      <td>38.0</td>\n",
       "      <td>71.2833</td>\n",
       "      <td>1</td>\n",
       "    </tr>\n",
       "    <tr>\n",
       "      <th>2</th>\n",
       "      <td>3</td>\n",
       "      <td>26.0</td>\n",
       "      <td>7.9250</td>\n",
       "      <td>1</td>\n",
       "    </tr>\n",
       "  </tbody>\n",
       "</table>\n",
       "</div>"
      ],
      "text/plain": [
       "   Pclass   Age     Fare  female\n",
       "0       3  22.0   7.2500       0\n",
       "1       1  38.0  71.2833       1\n",
       "2       3  26.0   7.9250       1"
      ]
     },
     "execution_count": 10,
     "metadata": {},
     "output_type": "execute_result"
    }
   ],
   "source": [
    "inputs.drop(['Sex','male'],axis='columns',inplace=True)\n",
    "inputs.head(3)"
   ]
  },
  {
   "cell_type": "code",
   "execution_count": 11,
   "metadata": {},
   "outputs": [
    {
     "data": {
      "text/plain": [
       "Index(['Age'], dtype='object')"
      ]
     },
     "execution_count": 11,
     "metadata": {},
     "output_type": "execute_result"
    }
   ],
   "source": [
    "inputs.columns[inputs.isna().any()]"
   ]
  },
  {
   "cell_type": "code",
   "execution_count": 12,
   "metadata": {},
   "outputs": [
    {
     "data": {
      "text/plain": [
       "0    22.0\n",
       "1    38.0\n",
       "2    26.0\n",
       "3    35.0\n",
       "4    35.0\n",
       "5     NaN\n",
       "6    54.0\n",
       "7     2.0\n",
       "8    27.0\n",
       "9    14.0\n",
       "Name: Age, dtype: float64"
      ]
     },
     "execution_count": 12,
     "metadata": {},
     "output_type": "execute_result"
    }
   ],
   "source": [
    "inputs.Age[:10]"
   ]
  },
  {
   "cell_type": "code",
   "execution_count": 14,
   "metadata": {},
   "outputs": [
    {
     "data": {
      "text/html": [
       "<div>\n",
       "<style scoped>\n",
       "    .dataframe tbody tr th:only-of-type {\n",
       "        vertical-align: middle;\n",
       "    }\n",
       "\n",
       "    .dataframe tbody tr th {\n",
       "        vertical-align: top;\n",
       "    }\n",
       "\n",
       "    .dataframe thead th {\n",
       "        text-align: right;\n",
       "    }\n",
       "</style>\n",
       "<table border=\"1\" class=\"dataframe\">\n",
       "  <thead>\n",
       "    <tr style=\"text-align: right;\">\n",
       "      <th></th>\n",
       "      <th>Pclass</th>\n",
       "      <th>Age</th>\n",
       "      <th>Fare</th>\n",
       "      <th>female</th>\n",
       "    </tr>\n",
       "  </thead>\n",
       "  <tbody>\n",
       "    <tr>\n",
       "      <th>0</th>\n",
       "      <td>3</td>\n",
       "      <td>22.000000</td>\n",
       "      <td>7.2500</td>\n",
       "      <td>0</td>\n",
       "    </tr>\n",
       "    <tr>\n",
       "      <th>1</th>\n",
       "      <td>1</td>\n",
       "      <td>38.000000</td>\n",
       "      <td>71.2833</td>\n",
       "      <td>1</td>\n",
       "    </tr>\n",
       "    <tr>\n",
       "      <th>2</th>\n",
       "      <td>3</td>\n",
       "      <td>26.000000</td>\n",
       "      <td>7.9250</td>\n",
       "      <td>1</td>\n",
       "    </tr>\n",
       "    <tr>\n",
       "      <th>3</th>\n",
       "      <td>1</td>\n",
       "      <td>35.000000</td>\n",
       "      <td>53.1000</td>\n",
       "      <td>1</td>\n",
       "    </tr>\n",
       "    <tr>\n",
       "      <th>4</th>\n",
       "      <td>3</td>\n",
       "      <td>35.000000</td>\n",
       "      <td>8.0500</td>\n",
       "      <td>0</td>\n",
       "    </tr>\n",
       "    <tr>\n",
       "      <th>5</th>\n",
       "      <td>3</td>\n",
       "      <td>29.699118</td>\n",
       "      <td>8.4583</td>\n",
       "      <td>0</td>\n",
       "    </tr>\n",
       "  </tbody>\n",
       "</table>\n",
       "</div>"
      ],
      "text/plain": [
       "   Pclass        Age     Fare  female\n",
       "0       3  22.000000   7.2500       0\n",
       "1       1  38.000000  71.2833       1\n",
       "2       3  26.000000   7.9250       1\n",
       "3       1  35.000000  53.1000       1\n",
       "4       3  35.000000   8.0500       0\n",
       "5       3  29.699118   8.4583       0"
      ]
     },
     "execution_count": 14,
     "metadata": {},
     "output_type": "execute_result"
    }
   ],
   "source": [
    "inputs.Age = inputs.Age.fillna(inputs.Age.mean())\n",
    "inputs.head(6)"
   ]
  },
  {
   "cell_type": "code",
   "execution_count": 15,
   "metadata": {},
   "outputs": [],
   "source": [
    "from sklearn.model_selection import train_test_split\n",
    "X_train, X_test, y_train, y_test = train_test_split(inputs,target,test_size=0.3)"
   ]
  },
  {
   "cell_type": "code",
   "execution_count": 16,
   "metadata": {},
   "outputs": [],
   "source": [
    "from sklearn.naive_bayes import GaussianNB\n",
    "model = GaussianNB()"
   ]
  },
  {
   "cell_type": "code",
   "execution_count": 18,
   "metadata": {},
   "outputs": [
    {
     "data": {
      "text/plain": [
       "GaussianNB()"
      ]
     },
     "execution_count": 18,
     "metadata": {},
     "output_type": "execute_result"
    }
   ],
   "source": [
    "model.fit(X_train,y_train)"
   ]
  },
  {
   "cell_type": "code",
   "execution_count": 19,
   "metadata": {},
   "outputs": [
    {
     "data": {
      "text/plain": [
       "0.7723880597014925"
      ]
     },
     "execution_count": 19,
     "metadata": {},
     "output_type": "execute_result"
    }
   ],
   "source": [
    "model.score(X_test,y_test)"
   ]
  },
  {
   "cell_type": "code",
   "execution_count": 22,
   "metadata": {},
   "outputs": [
    {
     "data": {
      "text/plain": [
       "array([0, 1, 1, 0, 0, 0, 1, 0, 0, 0, 0, 0, 0, 1, 1, 1, 0, 1, 1, 0, 1, 0,\n",
       "       1, 0, 0, 0, 0, 0, 0, 1, 1, 0, 0, 1, 0, 0, 0, 0, 0, 0, 1, 1, 0, 0,\n",
       "       1, 0, 1, 0, 0, 0, 0, 1, 1, 0, 0, 0, 1, 0, 1, 0, 0, 1, 0, 0, 0, 0,\n",
       "       1, 1, 0, 1, 0, 1, 0, 0, 1, 1, 1, 0, 0, 1, 0, 0, 0, 0, 0, 0, 1, 0,\n",
       "       1, 0, 0, 1, 1, 0, 1, 1, 0, 0, 1, 0, 0, 0, 0, 0, 0, 0, 0, 0, 0, 1,\n",
       "       1, 1, 1, 1, 1, 0, 0, 0, 0, 1, 0, 1, 1, 1, 0, 0, 0, 1, 0, 1, 0, 0,\n",
       "       1, 1, 0, 0, 1, 0, 1, 0, 0, 0, 0, 1, 1, 1, 1, 0, 1, 0, 1, 0, 0, 0,\n",
       "       0, 1, 0, 0, 1, 0, 0, 1, 0, 0, 0, 1, 1, 1, 0, 1, 0, 0, 0, 0, 0, 1,\n",
       "       1, 1, 1, 1, 0, 0, 0, 1, 1, 1, 0, 0, 0, 0, 1, 1, 1, 1, 1, 0, 0, 0,\n",
       "       0, 0, 1, 0, 0, 0, 0, 0, 1, 1, 0, 0, 1, 0, 1, 0, 0, 0, 1, 1, 0, 0,\n",
       "       0, 1, 1, 0, 0, 0, 1, 1, 0, 0, 0, 0, 1, 0, 1, 1, 1, 1, 1, 0, 0, 0,\n",
       "       0, 1, 0, 1, 0, 0, 0, 1, 1, 0, 0, 0, 0, 1, 0, 0, 0, 0, 0, 1, 0, 0,\n",
       "       1, 0, 0, 1], dtype=int64)"
      ]
     },
     "execution_count": 22,
     "metadata": {},
     "output_type": "execute_result"
    }
   ],
   "source": [
    "y_pred = model.predict(X_test)\n",
    "y_pred"
   ]
  },
  {
   "cell_type": "code",
   "execution_count": 21,
   "metadata": {},
   "outputs": [
    {
     "data": {
      "text/plain": [
       "array([[9.67664862e-01, 3.23351380e-02],\n",
       "       [2.42666165e-01, 7.57333835e-01],\n",
       "       [3.29218969e-01, 6.70781031e-01],\n",
       "       [9.68119048e-01, 3.18809521e-02],\n",
       "       [9.66848628e-01, 3.31513718e-02],\n",
       "       [9.69101765e-01, 3.08982349e-02],\n",
       "       [2.12495274e-01, 7.87504726e-01],\n",
       "       [9.68670974e-01, 3.13290260e-02],\n",
       "       [9.28218283e-01, 7.17817168e-02],\n",
       "       [9.64322288e-01, 3.56777121e-02],\n",
       "       [8.99663192e-01, 1.00336808e-01],\n",
       "       [9.68520601e-01, 3.14793987e-02],\n",
       "       [8.86366843e-01, 1.13633157e-01],\n",
       "       [1.32866619e-01, 8.67133381e-01],\n",
       "       [3.82244969e-01, 6.17755031e-01],\n",
       "       [3.88178597e-01, 6.11821403e-01],\n",
       "       [6.75872391e-01, 3.24127609e-01],\n",
       "       [6.62978968e-10, 9.99999999e-01],\n",
       "       [2.36949685e-01, 7.63050315e-01],\n",
       "       [9.67617669e-01, 3.23823313e-02],\n",
       "       [4.19678261e-01, 5.80321739e-01],\n",
       "       [9.67530159e-01, 3.24698415e-02],\n",
       "       [4.27073545e-01, 5.72926455e-01],\n",
       "       [9.63356674e-01, 3.66433261e-02],\n",
       "       [9.67209795e-01, 3.27902053e-02],\n",
       "       [9.67617669e-01, 3.23823313e-02],\n",
       "       [9.67615651e-01, 3.23843486e-02],\n",
       "       [9.25755191e-01, 7.42448093e-02],\n",
       "       [7.30335137e-01, 2.69664863e-01],\n",
       "       [2.28175511e-01, 7.71824489e-01],\n",
       "       [5.16471106e-02, 9.48352889e-01],\n",
       "       [9.67198493e-01, 3.28015072e-02],\n",
       "       [7.31501586e-01, 2.68498414e-01],\n",
       "       [2.41112000e-01, 7.58888000e-01],\n",
       "       [9.22150942e-01, 7.78490576e-02],\n",
       "       [9.22500581e-01, 7.74994189e-02],\n",
       "       [7.37812500e-01, 2.62187500e-01],\n",
       "       [9.66147191e-01, 3.38528088e-02],\n",
       "       [9.66266817e-01, 3.37331827e-02],\n",
       "       [8.77460509e-01, 1.22539491e-01],\n",
       "       [2.85996632e-05, 9.99971400e-01],\n",
       "       [4.02182439e-01, 5.97817561e-01],\n",
       "       [9.22150942e-01, 7.78490576e-02],\n",
       "       [6.32466274e-01, 3.67533726e-01],\n",
       "       [2.11914126e-01, 7.88085874e-01],\n",
       "       [9.64612802e-01, 3.53871975e-02],\n",
       "       [3.91575013e-01, 6.08424987e-01],\n",
       "       [9.67617669e-01, 3.23823313e-02],\n",
       "       [9.62658180e-01, 3.73418197e-02],\n",
       "       [5.15958813e-01, 4.84041187e-01],\n",
       "       [5.50742499e-01, 4.49257501e-01],\n",
       "       [1.07778375e-02, 9.89222162e-01],\n",
       "       [3.23972627e-01, 6.76027373e-01],\n",
       "       [9.67406832e-01, 3.25931681e-02],\n",
       "       [9.68738340e-01, 3.12616605e-02],\n",
       "       [9.68125307e-01, 3.18746932e-02],\n",
       "       [4.26573774e-01, 5.73426226e-01],\n",
       "       [9.63437853e-01, 3.65621471e-02],\n",
       "       [3.27397403e-01, 6.72602597e-01],\n",
       "       [9.66272394e-01, 3.37276058e-02],\n",
       "       [7.23132775e-01, 2.76867225e-01],\n",
       "       [6.41034410e-02, 9.35896559e-01],\n",
       "       [9.65167522e-01, 3.48324785e-02],\n",
       "       [9.65945532e-01, 3.40544678e-02],\n",
       "       [7.10949695e-01, 2.89050305e-01],\n",
       "       [9.69175382e-01, 3.08246179e-02],\n",
       "       [1.31493285e-02, 9.86850671e-01],\n",
       "       [4.24397482e-01, 5.75602518e-01],\n",
       "       [9.67753964e-01, 3.22460362e-02],\n",
       "       [1.00788141e-02, 9.89921186e-01],\n",
       "       [8.64191930e-01, 1.35808070e-01],\n",
       "       [1.81296399e-01, 8.18703601e-01],\n",
       "       [6.26010667e-01, 3.73989333e-01],\n",
       "       [9.60311718e-01, 3.96882819e-02],\n",
       "       [5.82510951e-02, 9.41748905e-01],\n",
       "       [2.03183763e-01, 7.96816237e-01],\n",
       "       [1.44803490e-02, 9.85519651e-01],\n",
       "       [9.63367155e-01, 3.66328453e-02],\n",
       "       [9.63397164e-01, 3.66028356e-02],\n",
       "       [3.39646742e-01, 6.60353258e-01],\n",
       "       [9.63097275e-01, 3.69027249e-02],\n",
       "       [6.22005966e-01, 3.77994034e-01],\n",
       "       [9.67664862e-01, 3.23351380e-02],\n",
       "       [9.28304434e-01, 7.16955658e-02],\n",
       "       [9.67544633e-01, 3.24553669e-02],\n",
       "       [7.29194968e-01, 2.70805032e-01],\n",
       "       [2.44383435e-01, 7.55616565e-01],\n",
       "       [6.20432744e-01, 3.79567256e-01],\n",
       "       [6.78755250e-02, 9.32124475e-01],\n",
       "       [9.68211509e-01, 3.17884912e-02],\n",
       "       [9.67529424e-01, 3.24705761e-02],\n",
       "       [4.21066509e-01, 5.78933491e-01],\n",
       "       [2.36173667e-01, 7.63826333e-01],\n",
       "       [9.24964890e-01, 7.50351099e-02],\n",
       "       [4.15140718e-01, 5.84859282e-01],\n",
       "       [3.47771884e-01, 6.52228116e-01],\n",
       "       [9.28304434e-01, 7.16955658e-02],\n",
       "       [9.67600925e-01, 3.23990750e-02],\n",
       "       [4.29938772e-01, 5.70061228e-01],\n",
       "       [9.68439482e-01, 3.15605183e-02],\n",
       "       [9.67533790e-01, 3.24662101e-02],\n",
       "       [9.65774309e-01, 3.42256908e-02],\n",
       "       [9.67256931e-01, 3.27430690e-02],\n",
       "       [9.67688895e-01, 3.23111054e-02],\n",
       "       [9.62695711e-01, 3.73042887e-02],\n",
       "       [9.47533933e-01, 5.24660670e-02],\n",
       "       [8.81690262e-01, 1.18309738e-01],\n",
       "       [9.52192086e-01, 4.78079143e-02],\n",
       "       [6.06948750e-01, 3.93051250e-01],\n",
       "       [2.47037261e-01, 7.52962739e-01],\n",
       "       [4.02152079e-01, 5.97847921e-01],\n",
       "       [2.22027678e-04, 9.99777972e-01],\n",
       "       [1.88775984e-01, 8.11224016e-01],\n",
       "       [4.29876752e-01, 5.70123248e-01],\n",
       "       [4.14031673e-01, 5.85968327e-01],\n",
       "       [9.62340887e-01, 3.76591132e-02],\n",
       "       [7.06575915e-01, 2.93424085e-01],\n",
       "       [9.67071208e-01, 3.29287920e-02],\n",
       "       [9.27645244e-01, 7.23547559e-02],\n",
       "       [4.29777505e-01, 5.70222495e-01],\n",
       "       [9.67941059e-01, 3.20589414e-02],\n",
       "       [4.06306165e-01, 5.93693835e-01],\n",
       "       [4.42317016e-01, 5.57682984e-01],\n",
       "       [1.28275859e-02, 9.87172414e-01],\n",
       "       [9.23441009e-01, 7.65589907e-02],\n",
       "       [9.67427262e-01, 3.25727378e-02],\n",
       "       [9.67533790e-01, 3.24662101e-02],\n",
       "       [7.29894809e-03, 9.92701052e-01],\n",
       "       [9.67621691e-01, 3.23783090e-02],\n",
       "       [2.37473602e-01, 7.62526398e-01],\n",
       "       [9.65069611e-01, 3.49303891e-02],\n",
       "       [9.68309929e-01, 3.16900713e-02],\n",
       "       [9.48804263e-13, 1.00000000e+00],\n",
       "       [3.46724595e-01, 6.53275405e-01],\n",
       "       [7.18570947e-01, 2.81429053e-01],\n",
       "       [9.67659825e-01, 3.23401751e-02],\n",
       "       [4.41807770e-01, 5.58192230e-01],\n",
       "       [9.24794284e-01, 7.52057161e-02],\n",
       "       [5.96534071e-03, 9.94034659e-01],\n",
       "       [9.63909881e-01, 3.60901187e-02],\n",
       "       [8.85886241e-01, 1.14113759e-01],\n",
       "       [9.69222982e-01, 3.07770175e-02],\n",
       "       [9.27025135e-01, 7.29748648e-02],\n",
       "       [4.29777505e-01, 5.70222495e-01],\n",
       "       [3.49169988e-01, 6.50830012e-01],\n",
       "       [2.30201611e-01, 7.69798389e-01],\n",
       "       [4.18141478e-01, 5.81858522e-01],\n",
       "       [9.67958419e-01, 3.20415811e-02],\n",
       "       [8.81019599e-03, 9.91189804e-01],\n",
       "       [9.23458203e-01, 7.65417966e-02],\n",
       "       [3.95394942e-01, 6.04605058e-01],\n",
       "       [9.64752637e-01, 3.52473630e-02],\n",
       "       [9.55735940e-01, 4.42640599e-02],\n",
       "       [9.67640897e-01, 3.23591027e-02],\n",
       "       [9.67640897e-01, 3.23591027e-02],\n",
       "       [2.98814393e-08, 9.99999970e-01],\n",
       "       [9.25453408e-01, 7.45465918e-02],\n",
       "       [6.31082147e-01, 3.68917853e-01],\n",
       "       [4.00393154e-01, 5.99606846e-01],\n",
       "       [7.26866848e-01, 2.73133152e-01],\n",
       "       [9.15745306e-01, 8.42546936e-02],\n",
       "       [7.93486212e-10, 9.99999999e-01],\n",
       "       [9.61610073e-01, 3.83899267e-02],\n",
       "       [7.23859309e-01, 2.76140691e-01],\n",
       "       [9.27653249e-01, 7.23467507e-02],\n",
       "       [3.69799321e-11, 1.00000000e+00],\n",
       "       [4.20576892e-01, 5.79423108e-01],\n",
       "       [1.75320073e-03, 9.98246799e-01],\n",
       "       [9.69624821e-01, 3.03751786e-02],\n",
       "       [3.79367972e-01, 6.20632028e-01],\n",
       "       [9.19394167e-01, 8.06058325e-02],\n",
       "       [9.25755191e-01, 7.42448093e-02],\n",
       "       [7.42627893e-01, 2.57372107e-01],\n",
       "       [8.97322697e-01, 1.02677303e-01],\n",
       "       [9.67529424e-01, 3.24705761e-02],\n",
       "       [6.12753168e-05, 9.99938725e-01],\n",
       "       [4.41839976e-01, 5.58160024e-01],\n",
       "       [5.44664690e-02, 9.45533531e-01],\n",
       "       [6.89944211e-03, 9.93100558e-01],\n",
       "       [4.33607866e-01, 5.66392134e-01],\n",
       "       [9.27025135e-01, 7.29748648e-02],\n",
       "       [9.36325027e-01, 6.36749730e-02],\n",
       "       [9.03533002e-01, 9.64669983e-02],\n",
       "       [3.87083561e-01, 6.12916439e-01],\n",
       "       [2.41353501e-02, 9.75864650e-01],\n",
       "       [1.31264421e-02, 9.86873558e-01],\n",
       "       [9.67605282e-01, 3.23947183e-02],\n",
       "       [9.24076120e-01, 7.59238800e-02],\n",
       "       [9.68146446e-01, 3.18535544e-02],\n",
       "       [7.27339466e-01, 2.72660534e-01],\n",
       "       [4.07411046e-01, 5.92588954e-01],\n",
       "       [2.44793523e-01, 7.55206477e-01],\n",
       "       [2.35115285e-01, 7.64884715e-01],\n",
       "       [1.12099156e-02, 9.88790084e-01],\n",
       "       [4.20216054e-01, 5.79783946e-01],\n",
       "       [9.25128580e-01, 7.48714201e-02],\n",
       "       [9.68315433e-01, 3.16845667e-02],\n",
       "       [9.67780504e-01, 3.22194960e-02],\n",
       "       [5.56335102e-01, 4.43664898e-01],\n",
       "       [9.66578923e-01, 3.34210765e-02],\n",
       "       [4.29777505e-01, 5.70222495e-01],\n",
       "       [7.39854258e-01, 2.60145742e-01],\n",
       "       [6.31641842e-01, 3.68358158e-01],\n",
       "       [9.67617669e-01, 3.23823313e-02],\n",
       "       [9.24189812e-01, 7.58101883e-02],\n",
       "       [6.28485840e-01, 3.71514160e-01],\n",
       "       [1.95253160e-04, 9.99804747e-01],\n",
       "       [2.97670961e-01, 7.02329039e-01],\n",
       "       [7.09905487e-01, 2.90094513e-01],\n",
       "       [9.67640897e-01, 3.23591027e-02],\n",
       "       [2.39064973e-01, 7.60935027e-01],\n",
       "       [9.67760809e-01, 3.22391905e-02],\n",
       "       [2.26741706e-01, 7.73258294e-01],\n",
       "       [9.67640897e-01, 3.23591027e-02],\n",
       "       [9.67530159e-01, 3.24698415e-02],\n",
       "       [8.83777244e-01, 1.16222756e-01],\n",
       "       [4.11330848e-01, 5.88669152e-01],\n",
       "       [2.36455872e-01, 7.63544128e-01],\n",
       "       [9.68522515e-01, 3.14774848e-02],\n",
       "       [9.66610797e-01, 3.33892033e-02],\n",
       "       [9.65243796e-01, 3.47562044e-02],\n",
       "       [4.29623746e-01, 5.70376254e-01],\n",
       "       [4.25543217e-01, 5.74456783e-01],\n",
       "       [9.66180958e-01, 3.38190419e-02],\n",
       "       [9.63645169e-01, 3.63548306e-02],\n",
       "       [6.54583268e-01, 3.45416732e-01],\n",
       "       [4.04523702e-01, 5.95476298e-01],\n",
       "       [3.66681408e-01, 6.33318592e-01],\n",
       "       [9.50973074e-01, 4.90269259e-02],\n",
       "       [9.67227581e-01, 3.27724193e-02],\n",
       "       [9.69244125e-01, 3.07558752e-02],\n",
       "       [9.62731120e-01, 3.72688799e-02],\n",
       "       [6.76878573e-02, 9.32312143e-01],\n",
       "       [9.50425817e-01, 4.95741830e-02],\n",
       "       [1.06817334e-02, 9.89318267e-01],\n",
       "       [4.31236588e-01, 5.68763412e-01],\n",
       "       [1.02877714e-01, 8.97122286e-01],\n",
       "       [8.62228406e-44, 1.00000000e+00],\n",
       "       [1.70706759e-01, 8.29293241e-01],\n",
       "       [9.66175878e-01, 3.38241223e-02],\n",
       "       [9.67613630e-01, 3.23863700e-02],\n",
       "       [7.39600567e-01, 2.60399433e-01],\n",
       "       [9.62986738e-01, 3.70132616e-02],\n",
       "       [4.88241021e-01, 5.11758979e-01],\n",
       "       [7.23519503e-01, 2.76480497e-01],\n",
       "       [3.21173164e-01, 6.78826836e-01],\n",
       "       [9.28613703e-01, 7.13862974e-02],\n",
       "       [9.19394167e-01, 8.06058325e-02],\n",
       "       [9.68148478e-01, 3.18515221e-02],\n",
       "       [2.45689642e-01, 7.54310358e-01],\n",
       "       [4.29938772e-01, 5.70061228e-01],\n",
       "       [9.64748288e-01, 3.52517116e-02],\n",
       "       [9.68103324e-01, 3.18966760e-02],\n",
       "       [9.22487258e-01, 7.75127418e-02],\n",
       "       [9.66144147e-01, 3.38558535e-02],\n",
       "       [6.71099313e-02, 9.32890069e-01],\n",
       "       [9.64114010e-01, 3.58859898e-02],\n",
       "       [9.68299987e-01, 3.17000133e-02],\n",
       "       [9.64751908e-01, 3.52480924e-02],\n",
       "       [7.30036880e-01, 2.69963120e-01],\n",
       "       [7.51452862e-01, 2.48547138e-01],\n",
       "       [4.10518765e-01, 5.89481235e-01],\n",
       "       [9.67621691e-01, 3.23783090e-02],\n",
       "       [9.67463492e-01, 3.25365084e-02],\n",
       "       [3.39938092e-02, 9.66006191e-01],\n",
       "       [9.49989988e-01, 5.00100122e-02],\n",
       "       [9.20574588e-01, 7.94254124e-02],\n",
       "       [3.97571265e-02, 9.60242873e-01]])"
      ]
     },
     "execution_count": 21,
     "metadata": {},
     "output_type": "execute_result"
    }
   ],
   "source": [
    "model.predict_proba(X_test)"
   ]
  },
  {
   "cell_type": "code",
   "execution_count": 23,
   "metadata": {},
   "outputs": [
    {
     "data": {
      "text/plain": [
       "array([[135,  32],\n",
       "       [ 29,  72]], dtype=int64)"
      ]
     },
     "execution_count": 23,
     "metadata": {},
     "output_type": "execute_result"
    }
   ],
   "source": [
    "from sklearn.metrics import confusion_matrix\n",
    "cm = confusion_matrix(y_test, y_pred)\n",
    "cm"
   ]
  },
  {
   "cell_type": "code",
   "execution_count": 24,
   "metadata": {},
   "outputs": [
    {
     "name": "stdout",
     "output_type": "stream",
     "text": [
      "accuracy 0.7723880597014925\n"
     ]
    }
   ],
   "source": [
    "from sklearn import metrics\n",
    "print(\"accuracy\",metrics.accuracy_score(y_test,y_pred))"
   ]
  },
  {
   "cell_type": "code",
   "execution_count": null,
   "metadata": {},
   "outputs": [],
   "source": []
  }
 ],
 "metadata": {
  "kernelspec": {
   "display_name": "Python 3",
   "language": "python",
   "name": "python3"
  },
  "language_info": {
   "codemirror_mode": {
    "name": "ipython",
    "version": 3
   },
   "file_extension": ".py",
   "mimetype": "text/x-python",
   "name": "python",
   "nbconvert_exporter": "python",
   "pygments_lexer": "ipython3",
   "version": "3.8.5"
  }
 },
 "nbformat": 4,
 "nbformat_minor": 4
}
